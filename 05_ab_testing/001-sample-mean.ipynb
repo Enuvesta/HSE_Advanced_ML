{
 "cells": [
  {
   "cell_type": "markdown",
   "metadata": {},
   "source": [
    "# Зависимость дисперсии среднего от числа примеров в эксперименте"
   ]
  },
  {
   "cell_type": "code",
   "execution_count": null,
   "metadata": {},
   "outputs": [],
   "source": [
    "%matplotlib inline\n",
    "from matplotlib import pyplot as plt\n",
    "import numpy as np\n",
    "from scipy import stats as st"
   ]
  },
  {
   "cell_type": "code",
   "execution_count": null,
   "metadata": {},
   "outputs": [],
   "source": [
    "# Функция генерации экспериментов\n",
    "def gen_expiremnts(mean=0, scale=10, n_samples=10, n_experiements=500):\n",
    "    return np.random.normal(loc=mean,\n",
    "                            scale=scale,\n",
    "                            size=(n_experiements, n_samples))"
   ]
  },
  {
   "cell_type": "code",
   "execution_count": null,
   "metadata": {},
   "outputs": [],
   "source": [
    "# TODO: оценить зависимость дисперсии \n",
    "#       от числа примеров в эксперименте\n",
    "#       (построить график)"
   ]
  },
  {
   "cell_type": "markdown",
   "metadata": {},
   "source": [
    "## Доверительный интервал для среднего"
   ]
  },
  {
   "cell_type": "code",
   "execution_count": null,
   "metadata": {},
   "outputs": [],
   "source": [
    "# TODO: построить доверительный интервал для n_samles=10\n",
    "#       при уровне значимости 0.95 (95%)\n",
    "confidence = 0.95\n",
    "z = st.norm.ppf(confidence)\n",
    "margin = z * std"
   ]
  },
  {
   "cell_type": "code",
   "execution_count": null,
   "metadata": {},
   "outputs": [],
   "source": [
    "# TODO: провести эксперимент и показать корректность полученного интервала"
   ]
  }
 ],
 "metadata": {
  "kernelspec": {
   "display_name": "Python 3",
   "language": "python",
   "name": "python3"
  },
  "language_info": {
   "codemirror_mode": {
    "name": "ipython",
    "version": 3
   },
   "file_extension": ".py",
   "mimetype": "text/x-python",
   "name": "python",
   "nbconvert_exporter": "python",
   "pygments_lexer": "ipython3",
   "version": "3.7.2"
  }
 },
 "nbformat": 4,
 "nbformat_minor": 2
}
