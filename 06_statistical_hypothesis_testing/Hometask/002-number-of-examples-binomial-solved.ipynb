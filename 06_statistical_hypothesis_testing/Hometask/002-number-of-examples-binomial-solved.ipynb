{
 "cells": [
  {
   "cell_type": "markdown",
   "metadata": {},
   "source": [
    "# Прогноз необходимого числа набюдений эксперимента"
   ]
  },
  {
   "cell_type": "code",
   "execution_count": null,
   "metadata": {},
   "outputs": [],
   "source": [
    "%matplotlib inline\n",
    "from matplotlib import pyplot as plt\n",
    "import numpy as np\n",
    "from scipy import stats as st"
   ]
  },
  {
   "cell_type": "code",
   "execution_count": null,
   "metadata": {},
   "outputs": [],
   "source": [
    "# TODO: Определить необходимое число наблюдений \n",
    "#       в эксперименте для получения значимого результата:\n",
    "# Текущий уровень конверсии: 1%\n",
    "# Минимальный уровень изменений: +0.1%\n",
    "# Уровень значимости: 95%\n",
    "# Требуемая мощность критерия: 90%"
   ]
  },
  {
   "cell_type": "markdown",
   "metadata": {},
   "source": [
    "## Определим N для достижения необходимого уровня значимости"
   ]
  },
  {
   "cell_type": "code",
   "execution_count": null,
   "metadata": {},
   "outputs": [],
   "source": [
    "st.norm.ppf(0.95)"
   ]
  },
  {
   "cell_type": "code",
   "execution_count": null,
   "metadata": {},
   "outputs": [],
   "source": [
    "# se1 = np.sqrt(p1 * (1 - p1) / n)\n",
    "# se2 = np.sqrt(p2 * (1 - p2) / n)\n",
    "\n",
    "# z = (p2 - p1) / np.sqrt(se1**2 + se2**2) -> st.norm.ppf(0.95) -> 1.645\n",
    "\n",
    "# np.sqrt(se1**2 + se2**2) = (p2 - p1) / 1.645\n",
    "# np.sqrt(se1**2 + se2**2) / ((p2 - p1) / 1.645) = np.sqrt(n)\n",
    "# n = ( np.sqrt( p1 * (1 - p1) + p2 * (1 - p2) ) / ((p2 - p1) / 1.645) ) ** 2 "
   ]
  },
  {
   "cell_type": "code",
   "execution_count": null,
   "metadata": {},
   "outputs": [],
   "source": [
    "p1 = 0.01\n",
    "p2 = 0.01 + 0.001\n",
    "n = ( np.sqrt( p1 * (1 - p1) + p2 * (1 - p2) ) / ((p2 - p1) / 1.64) ) ** 2 "
   ]
  },
  {
   "cell_type": "code",
   "execution_count": null,
   "metadata": {},
   "outputs": [],
   "source": [
    "n"
   ]
  },
  {
   "cell_type": "markdown",
   "metadata": {},
   "source": [
    "## Проведем эксперимент и оценим долю ошибок I-го рода"
   ]
  },
  {
   "cell_type": "code",
   "execution_count": null,
   "metadata": {},
   "outputs": [],
   "source": [
    "M = 5000\n",
    "sample1 = np.random.binomial(1, p1, size=(M, int(n)))"
   ]
  },
  {
   "cell_type": "code",
   "execution_count": null,
   "metadata": {},
   "outputs": [],
   "source": [
    "type_1_error_rate = np.sum(np.mean(sample1, axis=1) > p2) / M"
   ]
  },
  {
   "cell_type": "code",
   "execution_count": null,
   "metadata": {},
   "outputs": [],
   "source": [
    "plt.hist(np.mean(sample1, axis=1))\n",
    "plt.axvline(p2, color='k', linestyle='--')\n",
    "plt.title('Type-1 Error Rate: %.3f' % type_1_error_rate);"
   ]
  },
  {
   "cell_type": "markdown",
   "metadata": {},
   "source": [
    "## Определим число наблюдений для обеспечения необходимой мощности критерия"
   ]
  },
  {
   "cell_type": "code",
   "execution_count": null,
   "metadata": {},
   "outputs": [],
   "source": [
    "def calc_power(p1, p2, n, confidence=0.95):\n",
    "    z = st.norm.ppf(confidence)\n",
    "    s = np.sqrt(p1 * (1 - p1) / n + p2 * (1 - p2) / n)\n",
    "    thr = z * s + p1\n",
    "    betta = st.norm.cdf(thr, loc=p2, scale=s)\n",
    "    return betta, s, thr"
   ]
  },
  {
   "cell_type": "code",
   "execution_count": null,
   "metadata": {},
   "outputs": [],
   "source": [
    "n = 178000  # например, подберем перебором\n",
    "betta, s, thr = calc_power(0.01, 0.011, n)\n",
    "power = 1 - betta\n",
    "\n",
    "x = np.arange(0.0075, 0.0125, 0.00001)\n",
    "plt.plot(x, st.norm.pdf(x, loc=p1, scale=s))\n",
    "plt.plot(x, st.norm.pdf(x, loc=p2, scale=s))\n",
    "plt.legend(['p1', 'p2'])\n",
    "plt.axvline(thr, color='k', linestyle='--')\n",
    "plt.fill_between(x, st.norm.pdf(x, loc=p1, scale=s), where=x<thr, alpha=0.75)\n",
    "plt.fill_between(x, st.norm.pdf(x, loc=p2, scale=s), where=x>=thr, alpha=0.75)\n",
    "plt.title('N=%d Power=%.3f' % (n, power));"
   ]
  }
 ],
 "metadata": {
  "kernelspec": {
   "display_name": "Python 3",
   "language": "python",
   "name": "python3"
  },
  "language_info": {
   "codemirror_mode": {
    "name": "ipython",
    "version": 3
   },
   "file_extension": ".py",
   "mimetype": "text/x-python",
   "name": "python",
   "nbconvert_exporter": "python",
   "pygments_lexer": "ipython3",
   "version": "3.7.2"
  }
 },
 "nbformat": 4,
 "nbformat_minor": 2
}
