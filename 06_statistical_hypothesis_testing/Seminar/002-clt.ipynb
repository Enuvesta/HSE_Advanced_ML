{
 "cells": [
  {
   "cell_type": "markdown",
   "metadata": {},
   "source": [
    "# Центральная пределная теорема\n",
    "https://en.wikipedia.org/wiki/Central_limit_theorem"
   ]
  },
  {
   "cell_type": "code",
   "execution_count": null,
   "metadata": {},
   "outputs": [],
   "source": [
    "%matplotlib inline\n",
    "from matplotlib import pyplot as plt\n",
    "import numpy as np"
   ]
  },
  {
   "cell_type": "code",
   "execution_count": null,
   "metadata": {},
   "outputs": [],
   "source": [
    "POPULATION_STD = 10.  # задаем дисперсию в популяции"
   ]
  },
  {
   "cell_type": "code",
   "execution_count": null,
   "metadata": {},
   "outputs": [],
   "source": [
    "# Функция генерации данных экспериментов\n",
    "def gen_expiremnts(mean=0,\n",
    "                   n_samples=10,\n",
    "                   n_experiements=500):\n",
    "    return np.random.normal(loc=mean,\n",
    "                            scale=POPULATION_STD,\n",
    "                            size=(n_experiements, n_samples))"
   ]
  },
  {
   "cell_type": "code",
   "execution_count": null,
   "metadata": {},
   "outputs": [],
   "source": [
    "# Проводим 500 экспериментов с разным числом наблюдений\n",
    "sample_mean_std = []\n",
    "n_samples = list(range(10, 110, 10))\n",
    "for n in n_samples:\n",
    "    data = gen_expiremnts(n_experiements=500, n_samples=n)\n",
    "    means = np.mean(data, axis=1)         # вычисляем среднее для каждого эксперимента\n",
    "    sample_mean_std.append(np.std(means)) # сохраняем дисперсию средних"
   ]
  },
  {
   "cell_type": "code",
   "execution_count": null,
   "metadata": {},
   "outputs": [],
   "source": [
    "# Зависимость дисперсии средних от числа наблюдений по ЦПТ\n",
    "sample_mean_std_clt = POPULATION_STD / np.sqrt(n_samples)"
   ]
  },
  {
   "cell_type": "code",
   "execution_count": null,
   "metadata": {},
   "outputs": [],
   "source": [
    "# Оцениваем зависимость дисперсии средних от числа наблюдений в эксперименте\n",
    "# Сравниваем с теоретическими значениями по ЦПТ\n",
    "plt.figure(figsize=(10, 6))\n",
    "plt.plot(n_samples, sample_mean_std, '-o',\n",
    "         n_samples, sample_mean_std_clt, '-*')\n",
    "plt.xlabel('n_samples')\n",
    "plt.ylabel('sample mean std')\n",
    "plt.legend(['experimental', 'CLT'])\n",
    "plt.title('Sample mean std vs sample size');"
   ]
  }
 ],
 "metadata": {
  "kernelspec": {
   "display_name": "Python 3",
   "language": "python",
   "name": "python3"
  },
  "language_info": {
   "codemirror_mode": {
    "name": "ipython",
    "version": 3
   },
   "file_extension": ".py",
   "mimetype": "text/x-python",
   "name": "python",
   "nbconvert_exporter": "python",
   "pygments_lexer": "ipython3",
   "version": "3.7.2"
  }
 },
 "nbformat": 4,
 "nbformat_minor": 2
}
