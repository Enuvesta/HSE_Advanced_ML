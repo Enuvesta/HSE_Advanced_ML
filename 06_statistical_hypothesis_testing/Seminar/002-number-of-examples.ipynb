{
 "cells": [
  {
   "cell_type": "markdown",
   "metadata": {},
   "source": [
    "# Прогноз необходимого числа набюдений эксперимента"
   ]
  },
  {
   "cell_type": "code",
   "execution_count": null,
   "metadata": {},
   "outputs": [],
   "source": [
    "%matplotlib inline\n",
    "from matplotlib import pyplot as plt\n",
    "import numpy as np\n",
    "from scipy import stats as st"
   ]
  },
  {
   "cell_type": "code",
   "execution_count": null,
   "metadata": {},
   "outputs": [],
   "source": [
    "# TODO: Определить необходимое число наблюдений \n",
    "#       в эксперименте для получения значимого результата:\n",
    "# Среднее значение: 100\n",
    "# STD: 10\n",
    "# Минимальный уровень изменений: +3% 100 -> 103 -> diff=3\n",
    "# Уровень значимости: 95%\n",
    "# Мощность: 90%\n",
    "# Проведите эксперимент и оцените долю ошибок I-го и II-го рода"
   ]
  }
 ],
 "metadata": {
  "kernelspec": {
   "display_name": "Python 3",
   "language": "python",
   "name": "python3"
  },
  "language_info": {
   "codemirror_mode": {
    "name": "ipython",
    "version": 3
   },
   "file_extension": ".py",
   "mimetype": "text/x-python",
   "name": "python",
   "nbconvert_exporter": "python",
   "pygments_lexer": "ipython3",
   "version": "3.7.2"
  }
 },
 "nbformat": 4,
 "nbformat_minor": 2
}
